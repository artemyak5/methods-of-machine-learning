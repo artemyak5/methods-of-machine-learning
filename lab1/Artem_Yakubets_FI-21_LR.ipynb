{
 "cells": [
  {
   "cell_type": "markdown",
   "id": "c51735d1-f41f-4228-af49-8636ae7963e3",
   "metadata": {},
   "source": []
  },
  {
   "cell_type": "markdown",
   "id": "3c375d44-6628-4274-b17f-12e1e708d351",
   "metadata": {},
   "source": [
    "#### SciKit learn"
   ]
  },
  {
   "cell_type": "code",
   "execution_count": null,
   "id": "12ef44f9-bafa-4861-b0e1-099fe52d874b",
   "metadata": {},
   "outputs": [],
   "source": []
  },
  {
   "cell_type": "markdown",
   "id": "060fb449-8d6f-49b1-8b6c-62e80f82de40",
   "metadata": {},
   "source": [
    "#### XGBoost"
   ]
  },
  {
   "cell_type": "code",
   "execution_count": null,
   "id": "f589fe52-5812-45c3-a7b7-6ff9c7f24d87",
   "metadata": {},
   "outputs": [],
   "source": []
  },
  {
   "cell_type": "markdown",
   "id": "6a782ce2-e177-4f67-b2b8-222307eb10f5",
   "metadata": {},
   "source": [
    "#### Vanilla Python (Numpy/Pandas)"
   ]
  },
  {
   "cell_type": "code",
   "execution_count": null,
   "id": "c043f5e7-61ec-45bd-818e-ebd308d8c50d",
   "metadata": {},
   "outputs": [],
   "source": []
  },
  {
   "cell_type": "code",
   "execution_count": null,
   "id": "1dbdfa61-738c-4265-9f20-da57d44b98e0",
   "metadata": {},
   "outputs": [],
   "source": []
  }
 ],
 "metadata": {
  "kernelspec": {
   "display_name": "Python 3 (ipykernel)",
   "language": "python",
   "name": "python3"
  },
  "language_info": {
   "codemirror_mode": {
    "name": "ipython",
    "version": 3
   },
   "file_extension": ".py",
   "mimetype": "text/x-python",
   "name": "python",
   "nbconvert_exporter": "python",
   "pygments_lexer": "ipython3",
   "version": "3.13.5"
  }
 },
 "nbformat": 4,
 "nbformat_minor": 5
}
